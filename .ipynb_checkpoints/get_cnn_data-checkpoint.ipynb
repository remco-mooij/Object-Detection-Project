{
 "cells": [
  {
   "cell_type": "code",
   "execution_count": 25,
   "metadata": {},
   "outputs": [],
   "source": [
    "import selenium\n",
    "import pandas as pd\n",
    "from splinter import Browser\n",
    "from bs4 import BeautifulSoup as bs\n",
    "from selenium.webdriver.common.keys import Keys"
   ]
  },
  {
   "cell_type": "code",
   "execution_count": 24,
   "metadata": {},
   "outputs": [],
   "source": [
    "executable_path = {\"executable_path\": \"/usr/local/bin/chromedriver\"}\n",
    "browser = Browser(\"chrome\", **executable_path, headless=False)\n",
    "google_url = \"https://www.google.com/\"\n",
    "try:\n",
    "    browser.visit(google_url)\n",
    "    html = browser.html\n",
    "    search_xpath = f'//*[@id=\"tsf\"]/div[2]/div[1]/div[1]/div/div[2]/input'\n",
    "    browser.find_by_xpath(search_xpath).fill('dog')\n",
    "    button_click = f'//*[@id=\"tsf\"]/div[2]/div[1]/div[3]/center/input[1]'\n",
    "    #browser.click_by_xpath(button_click).first.click()\n",
    "    driver.find_element_by_xpath(button_click).send_keys(Keys.RETURN)\n",
    "    #browser.click_link_by_partial_text(f'Google Search')\n",
    "    \n",
    "    #soup = bs(html, \"html.parser\")\n",
    "#     article = soup.find(\"div\", class_='list_text')\n",
    "#     news_title = article.find(\"div\", class_=\"content_title\").text\n",
    "#     news_p = article.find(\"div\", class_ =\"article_teaser_body\").text\n",
    "#     print(news_title)\n",
    "#     print(news_p)\n",
    "    #print(soup)\n",
    "except:\n",
    "    pass"
   ]
  },
  {
   "cell_type": "code",
   "execution_count": null,
   "metadata": {},
   "outputs": [],
   "source": []
  }
 ],
 "metadata": {
  "kernelspec": {
   "display_name": "Python 3.7.3 64-bit ('base': conda)",
   "language": "python",
   "name": "python37364bitbasecondaf7339001cfe34b54ae1ffacfd6447597"
  },
  "language_info": {
   "codemirror_mode": {
    "name": "ipython",
    "version": 3
   },
   "file_extension": ".py",
   "mimetype": "text/x-python",
   "name": "python",
   "nbconvert_exporter": "python",
   "pygments_lexer": "ipython3",
   "version": "3.7.3"
  }
 },
 "nbformat": 4,
 "nbformat_minor": 4
}
